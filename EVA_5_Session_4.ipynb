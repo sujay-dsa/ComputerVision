{
  "nbformat": 4,
  "nbformat_minor": 0,
  "metadata": {
    "colab": {
      "name": "EVA 5 Session 4.ipynb",
      "provenance": [],
      "collapsed_sections": [],
      "include_colab_link": true
    },
    "kernelspec": {
      "name": "python3",
      "display_name": "Python 3"
    },
    "accelerator": "GPU"
  },
  "cells": [
    {
      "cell_type": "markdown",
      "metadata": {
        "id": "view-in-github",
        "colab_type": "text"
      },
      "source": [
        "<a href=\"https://colab.research.google.com/github/sujay-dsa/ComputerVision/blob/master/EVA_5_Session_4.ipynb\" target=\"_parent\"><img src=\"https://colab.research.google.com/assets/colab-badge.svg\" alt=\"Open In Colab\"/></a>"
      ]
    },
    {
      "cell_type": "code",
      "metadata": {
        "id": "0m2JWFliFfKT",
        "colab_type": "code",
        "colab": {}
      },
      "source": [
        "from __future__ import print_function\n",
        "import torch\n",
        "import torch.nn as nn\n",
        "import torch.nn.functional as F\n",
        "import torch.optim as optim\n",
        "from torchvision import datasets, transforms"
      ],
      "execution_count": 27,
      "outputs": []
    },
    {
      "cell_type": "code",
      "metadata": {
        "id": "h_Cx9q2QFgM7",
        "colab_type": "code",
        "colab": {}
      },
      "source": [
        "class Net(nn.Module):\n",
        "    def __init__(self):\n",
        "        super(Net, self).__init__()\n",
        "        self.conv1 = nn.Conv2d(1, 32, 3, padding=1) #input -? OUtput? RF\n",
        "        self.conv2 = nn.Conv2d(32, 64, 3, padding=1)\n",
        "        self.pool1 = nn.MaxPool2d(2, 2)\n",
        "        self.conv3 = nn.Conv2d(64, 128, 3, padding=1)\n",
        "        self.conv4 = nn.Conv2d(128, 256, 3, padding=1)\n",
        "        self.pool2 = nn.MaxPool2d(2, 2)\n",
        "        self.conv5 = nn.Conv2d(256, 512, 3)\n",
        "        self.conv6 = nn.Conv2d(512, 1024, 3)\n",
        "        self.conv7 = nn.Conv2d(1024, 10, 3)\n",
        "\n",
        "    def forward(self, x):\n",
        "        x = self.pool1(F.relu(self.conv2(F.relu(self.conv1(x)))))\n",
        "        x = self.pool2(F.relu(self.conv4(F.relu(self.conv3(x)))))\n",
        "        x = F.relu(self.conv6(F.relu(self.conv5(x))))\n",
        "        x = F.relu(self.conv7(x))\n",
        "        x = x.view(-1, 10)\n",
        "        return F.log_softmax(x)"
      ],
      "execution_count": 28,
      "outputs": []
    },
    {
      "cell_type": "code",
      "metadata": {
        "id": "3EGtqQBlVr-8",
        "colab_type": "code",
        "colab": {}
      },
      "source": [
        "# Modified snippet\n",
        "class Net(nn.Module):\n",
        "    def __init__(self):\n",
        "        super(Net, self).__init__()\n",
        "        self.conv1 = nn.Conv2d(1, 15, 3) #input -28 OUtput - 26 RF -3\n",
        "        self.conv2 = nn.Conv2d(15, 20, 3) #input -26 OUtput - 24 RF -5\n",
        "        self.conv3 = nn.Conv2d(20, 25, 3) #input -24 OUtput - 22 RF -7\n",
        "\n",
        "        self.batchnn1=nn.BatchNorm2d(25)\n",
        "        self.pool1 = nn.MaxPool2d(2, 2) #input -22 OUtput - 11 RF -14\n",
        "        \n",
        "        self.conv4 = nn.Conv2d(25, 25, 3) #input -11 OUtput - 9 RF -16\n",
        "        self.conv5 = nn.Conv2d(25, 25, 3) #input -9 OUtput - 7 RF -18\n",
        "        self.conv6 = nn.Conv2d(25, 20, 3) #input -7 OUtput - 5 RF -20\n",
        "        self.conv7 = nn.Conv2d(20, 16, 3) #input -5 OUtput - 3 RF -22\n",
        "        self.conv8 = nn.Conv2d(16, 10, 3) #input -3 OUtput - 1 RF -22\n",
        "\n",
        "    def forward(self, x):\n",
        "        x = F.relu(self.conv3(F.relu(self.conv2(F.relu(self.conv1(x))))))\n",
        "        #x = self.pool1(self.batchnn1(x))\n",
        "        x = self.pool1(F.relu(self.batchnn1(x)))\n",
        "        x = F.relu(self.conv5(F.relu(self.conv4(x))))\n",
        "        x = F.relu(self.conv7(F.relu(self.conv6(x))))\n",
        "        x = self.conv8(x)\n",
        "        x = x.view(-1, 10)\n",
        "        return F.log_softmax(x)"
      ],
      "execution_count": 74,
      "outputs": []
    },
    {
      "cell_type": "code",
      "metadata": {
        "colab_type": "code",
        "id": "xdydjYTZFyi3",
        "colab": {
          "base_uri": "https://localhost:8080/",
          "height": 440
        },
        "outputId": "8c8ec058-f36d-4b98-e5f0-d0e8bb5b1f5c"
      },
      "source": [
        "#!pip install torchsummary\n",
        "from torchsummary import summary\n",
        "use_cuda = torch.cuda.is_available()\n",
        "device = torch.device(\"cuda\" if use_cuda else \"cpu\")\n",
        "model = Net().to(device)\n",
        "summary(model, input_size=(1, 28, 28))"
      ],
      "execution_count": 73,
      "outputs": [
        {
          "output_type": "stream",
          "text": [
            "----------------------------------------------------------------\n",
            "        Layer (type)               Output Shape         Param #\n",
            "================================================================\n",
            "            Conv2d-1           [-1, 15, 26, 26]             150\n",
            "            Conv2d-2           [-1, 20, 24, 24]           2,720\n",
            "            Conv2d-3           [-1, 25, 22, 22]           4,525\n",
            "       BatchNorm2d-4           [-1, 25, 22, 22]              50\n",
            "         MaxPool2d-5           [-1, 25, 11, 11]               0\n",
            "            Conv2d-6             [-1, 30, 9, 9]           6,780\n",
            "            Conv2d-7             [-1, 25, 7, 7]           6,775\n",
            "            Conv2d-8             [-1, 20, 5, 5]           4,520\n",
            "            Conv2d-9             [-1, 16, 3, 3]           2,896\n",
            "           Conv2d-10             [-1, 10, 1, 1]           1,450\n",
            "================================================================\n",
            "Total params: 29,866\n",
            "Trainable params: 29,866\n",
            "Non-trainable params: 0\n",
            "----------------------------------------------------------------\n",
            "Input size (MB): 0.00\n",
            "Forward/backward pass size (MB): 0.41\n",
            "Params size (MB): 0.11\n",
            "Estimated Total Size (MB): 0.52\n",
            "----------------------------------------------------------------\n"
          ],
          "name": "stdout"
        },
        {
          "output_type": "stream",
          "text": [
            "/usr/local/lib/python3.6/dist-packages/ipykernel_launcher.py:26: UserWarning: Implicit dimension choice for log_softmax has been deprecated. Change the call to include dim=X as an argument.\n"
          ],
          "name": "stderr"
        }
      ]
    },
    {
      "cell_type": "code",
      "metadata": {
        "id": "DqTWLaM5GHgH",
        "colab_type": "code",
        "colab": {}
      },
      "source": [
        "\n",
        "\n",
        "torch.manual_seed(1)\n",
        "batch_size = 128\n",
        "\n",
        "kwargs = {'num_workers': 1, 'pin_memory': True} if use_cuda else {}\n",
        "train_loader = torch.utils.data.DataLoader(\n",
        "    datasets.MNIST('../data', train=True, download=True,\n",
        "                    transform=transforms.Compose([\n",
        "                        transforms.ToTensor(),\n",
        "                        transforms.Normalize((0.1307,), (0.3081,))\n",
        "                    ])),\n",
        "    batch_size=batch_size, shuffle=True, **kwargs)\n",
        "test_loader = torch.utils.data.DataLoader(\n",
        "    datasets.MNIST('../data', train=False, transform=transforms.Compose([\n",
        "                        transforms.ToTensor(),\n",
        "                        transforms.Normalize((0.1307,), (0.3081,))\n",
        "                    ])),\n",
        "    batch_size=batch_size, shuffle=True, **kwargs)\n"
      ],
      "execution_count": 59,
      "outputs": []
    },
    {
      "cell_type": "code",
      "metadata": {
        "id": "8fDefDhaFlwH",
        "colab_type": "code",
        "colab": {}
      },
      "source": [
        "from tqdm import tqdm\n",
        "def train(model, device, train_loader, optimizer, epoch):\n",
        "    model.train()\n",
        "    pbar = tqdm(train_loader)\n",
        "    for batch_idx, (data, target) in enumerate(pbar):\n",
        "        data, target = data.to(device), target.to(device)\n",
        "        optimizer.zero_grad()\n",
        "        output = model(data)\n",
        "        loss = F.nll_loss(output, target)\n",
        "        loss.backward()\n",
        "        optimizer.step()\n",
        "        #pbar.set_description(desc= f'loss={loss.item()} batch_id={batch_idx}')\n",
        "\n",
        "\n",
        "def test(model, device, test_loader):\n",
        "    model.eval()\n",
        "    test_loss = 0\n",
        "    correct = 0\n",
        "    with torch.no_grad():\n",
        "        for data, target in test_loader:\n",
        "            data, target = data.to(device), target.to(device)\n",
        "            output = model(data)\n",
        "            test_loss += F.nll_loss(output, target, reduction='sum').item()  # sum up batch loss\n",
        "            pred = output.argmax(dim=1, keepdim=True)  # get the index of the max log-probability\n",
        "            correct += pred.eq(target.view_as(pred)).sum().item()\n",
        "\n",
        "    test_loss /= len(test_loader.dataset)\n",
        "\n",
        "    print('\\nTest set: Average loss: {:.4f}, Accuracy: {}/{} ({:.3f}%)\\n'.format(\n",
        "        test_loss, correct, len(test_loader.dataset),\n",
        "        100. * correct / len(test_loader.dataset)))"
      ],
      "execution_count": 63,
      "outputs": []
    },
    {
      "cell_type": "code",
      "metadata": {
        "id": "MMWbLWO6FuHb",
        "colab_type": "code",
        "colab": {
          "base_uri": "https://localhost:8080/",
          "height": 1000
        },
        "outputId": "770b15dc-8105-409d-eea4-e90509d14811"
      },
      "source": [
        "\n",
        "model = Net().to(device)\n",
        "optimizer = optim.SGD(model.parameters(), lr=0.02, momentum=0.9)\n",
        "\n",
        "for epoch in range(1, 2):\n",
        "    train(model, device, train_loader, optimizer, epoch)\n",
        "    test(model, device, test_loader)"
      ],
      "execution_count": 65,
      "outputs": [
        {
          "output_type": "stream",
          "text": [
            "\n",
            "  0%|          | 0/469 [00:00<?, ?it/s]\u001b[A/usr/local/lib/python3.6/dist-packages/ipykernel_launcher.py:26: UserWarning: Implicit dimension choice for log_softmax has been deprecated. Change the call to include dim=X as an argument.\n",
            "\n",
            "  1%|          | 3/469 [00:00<00:16, 27.81it/s]\u001b[A\n",
            "  2%|▏         | 8/469 [00:00<00:14, 31.77it/s]\u001b[A\n",
            "  3%|▎         | 13/469 [00:00<00:13, 34.55it/s]\u001b[A\n",
            "  4%|▍         | 18/469 [00:00<00:12, 37.01it/s]\u001b[A\n",
            "  5%|▍         | 23/469 [00:00<00:11, 39.46it/s]\u001b[A\n",
            "  6%|▌         | 28/469 [00:00<00:10, 41.80it/s]\u001b[A\n",
            "  7%|▋         | 33/469 [00:00<00:10, 43.56it/s]\u001b[A\n",
            "  8%|▊         | 38/469 [00:00<00:10, 42.16it/s]\u001b[A\n",
            "  9%|▉         | 43/469 [00:01<00:10, 41.15it/s]\u001b[A\n",
            " 10%|█         | 48/469 [00:01<00:09, 42.96it/s]\u001b[A\n",
            " 11%|█▏        | 53/469 [00:01<00:09, 44.47it/s]\u001b[A\n",
            " 12%|█▏        | 58/469 [00:01<00:09, 43.92it/s]\u001b[A\n",
            " 13%|█▎        | 63/469 [00:01<00:09, 43.53it/s]\u001b[A\n",
            " 14%|█▍        | 68/469 [00:01<00:08, 44.81it/s]\u001b[A\n",
            " 16%|█▌        | 73/469 [00:01<00:08, 45.76it/s]\u001b[A\n",
            " 17%|█▋        | 78/469 [00:01<00:08, 46.43it/s]\u001b[A\n",
            " 18%|█▊        | 83/469 [00:01<00:08, 46.60it/s]\u001b[A\n",
            " 19%|█▉        | 88/469 [00:01<00:08, 46.68it/s]\u001b[A\n",
            " 20%|█▉        | 93/469 [00:02<00:07, 47.04it/s]\u001b[A\n",
            " 21%|██        | 98/469 [00:02<00:07, 47.32it/s]\u001b[A\n",
            " 22%|██▏       | 103/469 [00:02<00:08, 45.49it/s]\u001b[A\n",
            " 23%|██▎       | 108/469 [00:02<00:07, 45.91it/s]\u001b[A\n",
            " 24%|██▍       | 113/469 [00:02<00:07, 46.47it/s]\u001b[A\n",
            " 25%|██▌       | 118/469 [00:02<00:07, 46.86it/s]\u001b[A\n",
            " 26%|██▌       | 123/469 [00:02<00:07, 47.09it/s]\u001b[A\n",
            " 27%|██▋       | 128/469 [00:02<00:07, 46.87it/s]\u001b[A\n",
            " 28%|██▊       | 133/469 [00:02<00:07, 45.84it/s]\u001b[A\n",
            " 29%|██▉       | 138/469 [00:03<00:07, 45.51it/s]\u001b[A\n",
            " 30%|███       | 143/469 [00:03<00:07, 46.32it/s]\u001b[A\n",
            " 32%|███▏      | 148/469 [00:03<00:06, 46.42it/s]\u001b[A\n",
            " 33%|███▎      | 153/469 [00:03<00:07, 45.06it/s]\u001b[A\n",
            " 34%|███▎      | 158/469 [00:03<00:06, 45.67it/s]\u001b[A\n",
            " 35%|███▍      | 163/469 [00:03<00:06, 46.24it/s]\u001b[A\n",
            " 36%|███▌      | 168/469 [00:03<00:06, 46.34it/s]\u001b[A\n",
            " 37%|███▋      | 173/469 [00:03<00:06, 46.65it/s]\u001b[A\n",
            " 38%|███▊      | 178/469 [00:03<00:06, 46.98it/s]\u001b[A\n",
            " 39%|███▉      | 183/469 [00:04<00:06, 46.47it/s]\u001b[A\n",
            " 40%|████      | 188/469 [00:04<00:05, 46.83it/s]\u001b[A\n",
            " 41%|████      | 193/469 [00:04<00:05, 46.32it/s]\u001b[A\n",
            " 42%|████▏     | 198/469 [00:04<00:05, 45.92it/s]\u001b[A\n",
            " 43%|████▎     | 203/469 [00:04<00:05, 45.60it/s]\u001b[A\n",
            " 44%|████▍     | 208/469 [00:04<00:05, 46.44it/s]\u001b[A\n",
            " 45%|████▌     | 213/469 [00:04<00:05, 46.88it/s]\u001b[A\n",
            " 46%|████▋     | 218/469 [00:04<00:05, 45.79it/s]\u001b[A\n",
            " 48%|████▊     | 223/469 [00:04<00:05, 46.26it/s]\u001b[A\n",
            " 49%|████▊     | 228/469 [00:05<00:05, 45.10it/s]\u001b[A\n",
            " 50%|████▉     | 233/469 [00:05<00:05, 45.57it/s]\u001b[A\n",
            " 51%|█████     | 238/469 [00:05<00:04, 46.43it/s]\u001b[A\n",
            " 52%|█████▏    | 243/469 [00:05<00:04, 45.30it/s]\u001b[A\n",
            " 53%|█████▎    | 248/469 [00:05<00:04, 45.61it/s]\u001b[A\n",
            " 54%|█████▍    | 253/469 [00:05<00:04, 46.19it/s]\u001b[A\n",
            " 55%|█████▌    | 258/469 [00:05<00:04, 46.60it/s]\u001b[A\n",
            " 56%|█████▌    | 263/469 [00:05<00:04, 46.88it/s]\u001b[A\n",
            " 57%|█████▋    | 268/469 [00:05<00:04, 45.84it/s]\u001b[A\n",
            " 58%|█████▊    | 273/469 [00:06<00:04, 43.57it/s]\u001b[A\n",
            " 59%|█████▉    | 278/469 [00:06<00:04, 41.95it/s]\u001b[A\n",
            " 60%|██████    | 283/469 [00:06<00:04, 40.61it/s]\u001b[A\n",
            " 61%|██████▏   | 288/469 [00:06<00:04, 38.37it/s]\u001b[A\n",
            " 62%|██████▏   | 293/469 [00:06<00:04, 38.97it/s]\u001b[A\n",
            " 63%|██████▎   | 297/469 [00:06<00:04, 38.90it/s]\u001b[A\n",
            " 64%|██████▍   | 302/469 [00:06<00:04, 39.99it/s]\u001b[A\n",
            " 65%|██████▌   | 307/469 [00:06<00:03, 42.14it/s]\u001b[A\n",
            " 67%|██████▋   | 312/469 [00:06<00:03, 43.34it/s]\u001b[A\n",
            " 68%|██████▊   | 317/469 [00:07<00:03, 44.85it/s]\u001b[A\n",
            " 69%|██████▊   | 322/469 [00:07<00:03, 44.68it/s]\u001b[A\n",
            " 70%|██████▉   | 327/469 [00:07<00:03, 44.91it/s]\u001b[A\n",
            " 71%|███████   | 332/469 [00:07<00:03, 43.55it/s]\u001b[A\n",
            " 72%|███████▏  | 337/469 [00:07<00:03, 43.21it/s]\u001b[A\n",
            " 73%|███████▎  | 342/469 [00:07<00:02, 43.95it/s]\u001b[A\n",
            " 74%|███████▍  | 347/469 [00:07<00:02, 42.45it/s]\u001b[A\n",
            " 75%|███████▌  | 352/469 [00:07<00:02, 41.33it/s]\u001b[A\n",
            " 76%|███████▌  | 357/469 [00:08<00:02, 40.48it/s]\u001b[A\n",
            " 77%|███████▋  | 362/469 [00:08<00:02, 40.91it/s]\u001b[A\n",
            " 78%|███████▊  | 367/469 [00:08<00:02, 40.44it/s]\u001b[A\n",
            " 79%|███████▉  | 372/469 [00:08<00:02, 39.00it/s]\u001b[A\n",
            " 80%|████████  | 376/469 [00:08<00:02, 37.96it/s]\u001b[A\n",
            " 81%|████████  | 380/469 [00:08<00:02, 38.15it/s]\u001b[A\n",
            " 82%|████████▏ | 384/469 [00:08<00:02, 38.38it/s]\u001b[A\n",
            " 83%|████████▎ | 388/469 [00:08<00:02, 38.40it/s]\u001b[A\n",
            " 84%|████████▎ | 392/469 [00:08<00:02, 38.20it/s]\u001b[A\n",
            " 85%|████████▍ | 397/469 [00:09<00:01, 39.71it/s]\u001b[A\n",
            " 86%|████████▌ | 402/469 [00:09<00:01, 42.04it/s]\u001b[A\n",
            " 87%|████████▋ | 407/469 [00:09<00:01, 43.71it/s]\u001b[A\n",
            " 88%|████████▊ | 412/469 [00:09<00:01, 43.50it/s]\u001b[A\n",
            " 89%|████████▉ | 417/469 [00:09<00:01, 42.77it/s]\u001b[A\n",
            " 90%|████████▉ | 422/469 [00:09<00:01, 44.36it/s]\u001b[A\n",
            " 91%|█████████ | 427/469 [00:09<00:00, 45.57it/s]\u001b[A\n",
            " 92%|█████████▏| 432/469 [00:09<00:00, 46.44it/s]\u001b[A\n",
            " 93%|█████████▎| 437/469 [00:09<00:00, 44.05it/s]\u001b[A\n",
            " 94%|█████████▍| 442/469 [00:10<00:00, 42.19it/s]\u001b[A\n",
            " 95%|█████████▌| 447/469 [00:10<00:00, 41.47it/s]\u001b[A\n",
            " 96%|█████████▋| 452/469 [00:10<00:00, 39.56it/s]\u001b[A\n",
            " 97%|█████████▋| 456/469 [00:10<00:00, 37.95it/s]\u001b[A\n",
            " 98%|█████████▊| 460/469 [00:10<00:00, 37.44it/s]\u001b[A\n",
            " 99%|█████████▉| 464/469 [00:10<00:00, 37.83it/s]\u001b[A\n",
            "100%|██████████| 469/469 [00:10<00:00, 43.41it/s]\n"
          ],
          "name": "stderr"
        },
        {
          "output_type": "stream",
          "text": [
            "\n",
            "Test set: Average loss: 0.0862, Accuracy: 9730/10000 (97.300%)\n",
            "\n"
          ],
          "name": "stdout"
        }
      ]
    },
    {
      "cell_type": "code",
      "metadata": {
        "id": "So5uk4EkHW6R",
        "colab_type": "code",
        "colab": {}
      },
      "source": [
        ""
      ],
      "execution_count": null,
      "outputs": []
    }
  ]
}